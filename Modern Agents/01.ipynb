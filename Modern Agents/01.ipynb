{
 "cells": [
  {
   "cell_type": "code",
   "execution_count": 18,
   "metadata": {},
   "outputs": [
    {
     "name": "stdout",
     "output_type": "stream",
     "text": [
      "==================================\u001b[1m Ai Message \u001b[0m==================================\n",
      "\n",
      "Certainly! If you want to create a rectangle of 5 units by 5 units using Grasshopper's Python component, you can do so by using RhinoScriptSyntax methods. Here is a basic example of how you can create such a rectangle using Python in Grasshopper.\n",
      "\n",
      "1. Open Grasshopper in Rhino.\n",
      "2. Place a Python Script component (you can find it under \"Maths > Script > Python Script\").\n",
      "3. Double-click the component to open the script editor.\n",
      "4. Replace the content with the following code:\n",
      "\n",
      "```python\n",
      "import Rhino.Geometry as rg\n",
      "\n",
      "def create_rectangle(base_point, width, height):\n",
      "    # Create a rectangle using the base point, width, and height\n",
      "    rectangle = rg.Rectangle3d(rg.Plane.WorldXY, base_point, rg.Point3d(base_point.X + width, base_point.Y + height, base_point.Z))\n",
      "    return rectangle\n",
      "\n",
      "# Base point for the rectangle\n",
      "base_point = rg.Point3d(0, 0, 0)\n",
      "width = 5\n",
      "height = 5\n",
      "\n",
      "# Create the rectangle\n",
      "rect = create_rectangle(base_point, width, height)\n",
      "\n",
      "# Output the rectangle\n",
      "a = rect\n",
      "```\n",
      "\n",
      "5. Hit the OK button to close the editor.\n",
      "6. Connect the output `a` of the Python component to a `Curve` parameter or any other component that accepts geometry in Grasshopper.\n",
      "\n",
      "### Explanation of the Code:\n",
      "- The `import Rhino.Geometry as rg` line imports the necessary geometry classes from Rhino.\n",
      "- The `create_rectangle` function takes a base point and dimensions (width and height) and constructs a rectangle in the Rhino 3D space.\n",
      "- A base point (0, 0, 0) is defined to start the rectangle, and the dimensions of the rectangle are set to 5 units each.\n",
      "- The rectangle is created and assigned to the output variable `a` for use in Grasshopper.\n",
      "\n",
      "Once you run the script, you should see a 5x5 rectangle in your Rhino canvas.\n"
     ]
    }
   ],
   "source": [
    "from langchain_openai import ChatOpenAI\n",
    "\n",
    "model_id = \"google/gemma-3-27b-it:free\"\n",
    "model_id = 'gpt-4o-mini'\n",
    "\n",
    "llm = ChatOpenAI(\n",
    "    base_url=\"https://openrouter.ai/api/v1\",\n",
    "    api_key=\"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\",\n",
    "    model=model_id\n",
    ")\n",
    "\n",
    "res = llm.invoke(\"write grasshopper python code for create rectangel 5 * 5\")\n",
    "res.pretty_print()"
   ]
  },
  {
   "cell_type": "code",
   "execution_count": 20,
   "metadata": {},
   "outputs": [
    {
     "data": {
      "text/plain": [
       "\"\\nimport rhinoscriptsyntax as rs\\n\\n# Create a rectangle with width 5 and height 3\\nrectangle = rs.AddRectangle(rs.worldXYPlane(), 5, 3)\\n\\n# Store the geometry in variable 'a'\\na = rectangle\\n\\n\""
      ]
     },
     "execution_count": 20,
     "metadata": {},
     "output_type": "execute_result"
    }
   ],
   "source": [
    "x =\"\"\"```python\n",
    "import rhinoscriptsyntax as rs\n",
    "\n",
    "# Create a rectangle with width 5 and height 3\n",
    "rectangle = rs.AddRectangle(rs.worldXYPlane(), 5, 3)\n",
    "\n",
    "# Store the geometry in variable 'a'\n",
    "a = rectangle\n",
    "```\n",
    "\"\"\"\n",
    "\n",
    "x.replace(\"```python\", \"\").replace(\"```\", \"\")"
   ]
  },
  {
   "cell_type": "code",
   "execution_count": null,
   "metadata": {},
   "outputs": [],
   "source": []
  },
  {
   "cell_type": "code",
   "execution_count": null,
   "metadata": {},
   "outputs": [],
   "source": []
  },
  {
   "cell_type": "code",
   "execution_count": null,
   "metadata": {},
   "outputs": [],
   "source": []
  },
  {
   "cell_type": "code",
   "execution_count": null,
   "metadata": {},
   "outputs": [],
   "source": []
  },
  {
   "cell_type": "code",
   "execution_count": null,
   "metadata": {},
   "outputs": [],
   "source": []
  },
  {
   "cell_type": "code",
   "execution_count": null,
   "metadata": {},
   "outputs": [],
   "source": []
  },
  {
   "cell_type": "code",
   "execution_count": null,
   "metadata": {},
   "outputs": [],
   "source": []
  },
  {
   "cell_type": "code",
   "execution_count": null,
   "metadata": {},
   "outputs": [],
   "source": []
  },
  {
   "cell_type": "code",
   "execution_count": null,
   "metadata": {},
   "outputs": [],
   "source": []
  },
  {
   "cell_type": "code",
   "execution_count": null,
   "metadata": {},
   "outputs": [],
   "source": []
  },
  {
   "cell_type": "code",
   "execution_count": null,
   "metadata": {},
   "outputs": [],
   "source": []
  }
 ],
 "metadata": {
  "kernelspec": {
   "display_name": "agent",
   "language": "python",
   "name": "python3"
  },
  "language_info": {
   "codemirror_mode": {
    "name": "ipython",
    "version": 3
   },
   "file_extension": ".py",
   "mimetype": "text/x-python",
   "name": "python",
   "nbconvert_exporter": "python",
   "pygments_lexer": "ipython3",
   "version": "3.13.1"
  }
 },
 "nbformat": 4,
 "nbformat_minor": 2
}
