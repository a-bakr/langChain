{
 "cells": [
  {
   "cell_type": "code",
   "execution_count": 40,
   "metadata": {},
   "outputs": [],
   "source": [
    "from langchain_openai import ChatOpenAI\n",
    "\n",
    "model_id = 'gpt-4o-mini'\n",
    "llm = ChatOpenAI(model=model_id)"
   ]
  },
  {
   "cell_type": "code",
   "execution_count": 15,
   "metadata": {},
   "outputs": [
    {
     "name": "stdout",
     "output_type": "stream",
     "text": [
      "==================================\u001b[1m Ai Message \u001b[0m==================================\n",
      "\n",
      "My name is Assistant. How can I help you today?\n"
     ]
    }
   ],
   "source": [
    "from langchain.prompts import ChatPromptTemplate\n",
    "from langchain_core.messages import SystemMessage, HumanMessage\n",
    "\n",
    "\n",
    "prompt = ChatPromptTemplate.from_messages([\n",
    "    SystemMessage(\"your name is {name}\"),\n",
    "    HumanMessage(\"what is your name?\")\n",
    "])\n",
    "\n",
    "chain = prompt | llm\n",
    "\n",
    "chain.invoke({'input': 'abdallah'}).pretty_print()"
   ]
  },
  {
   "cell_type": "code",
   "execution_count": 41,
   "metadata": {},
   "outputs": [],
   "source": [
    "from langchain_google_firestore import FirestoreSaver\n",
    "from langchain_postgres import PGVector\n",
    "from langchain_chroma import Chroma\n",
    "\n",
    "\n",
    "from langchain_anthropic import ChatAnthropic, Anthropic\n",
    "from langchain_google_genai import ChatGoogleGenerativeAI, GoogleGenerativeAI\n",
    "from langchain_openai import ChatOpenAI, OpenAI\n",
    "\n",
    "\n",
    "from langchain.agents import Agent, AgentType, create_json_agent\n",
    "from langchain.chains import prompt_selector, loading\n",
    "from langchain.callbacks import AimCallbackHandler\n",
    "from langchain.document_loaders import PyPDFLoader, TextLoader, image\n",
    "from langchain.memory import MotorheadMemory\n",
    "from langchain.model_laboratory import ModelLaboratory\n",
    "from langchain.prompts import ChatPromptTemplate\n",
    "\n",
    "\n",
    "from langchain_community.agent_toolkits import AINetworkToolkit\n",
    "from langchain_community.agents import openai_assistant\n",
    "from langchain_community.chains.openapi import prompts\n",
    "from langchain_community.chat_loaders.whatsapp import logger\n",
    "from langchain_community.chat_models.openai import ChatOpenAI\n",
    "from langchain_community.utils import math\n",
    "from langchain_community.document_loaders import PDFMinerLoader\n",
    "\n",
    "\n",
    "from langchain_core.indexing import DocumentIndex\n",
    "from langchain_core.embeddings import Embeddings\n",
    "from langchain_core.agents import AgentAction\n",
    "from langchain_core.callbacks import AsyncCallbackHandler\n",
    "from langchain_core.memory import abstractmethod\n",
    "from langchain_core.messages import AIMessage, SystemMessage, HumanMessage, BaseMessage, ToolMessage\n",
    "from langchain_core.tools import BaseTool\n",
    "from langchain_core.output_parsers import StrOutputParser\n",
    "\n",
    "\n",
    "from langchain_experimental.agents import create_csv_agent\n",
    "from langchain_experimental.comprehend_moderation import AmazonComprehendModerationChain\n",
    "from langchain_experimental.openai_assistant import OpenAIAssistantRunnable\n",
    "from langchain_experimental.tools import PythonAstREPLTool\n",
    "\n",
    "\n",
    "from langchain_text_splitters.python import PythonCodeTextSplitter\n",
    "from langchain_text_splitters.html import HTMLHeaderTextSplitter\n",
    "from langchain_text_splitters.json import RecursiveJsonSplitter\n",
    "\n",
    "from langgraph_cli.analytics import get_anonymized_params"
   ]
  },
  {
   "cell_type": "code",
   "execution_count": null,
   "metadata": {},
   "outputs": [],
   "source": []
  },
  {
   "cell_type": "code",
   "execution_count": null,
   "metadata": {},
   "outputs": [],
   "source": []
  },
  {
   "cell_type": "code",
   "execution_count": null,
   "metadata": {},
   "outputs": [],
   "source": []
  },
  {
   "cell_type": "code",
   "execution_count": null,
   "metadata": {},
   "outputs": [],
   "source": []
  },
  {
   "cell_type": "code",
   "execution_count": null,
   "metadata": {},
   "outputs": [],
   "source": []
  },
  {
   "cell_type": "code",
   "execution_count": null,
   "metadata": {},
   "outputs": [],
   "source": []
  },
  {
   "cell_type": "code",
   "execution_count": null,
   "metadata": {},
   "outputs": [],
   "source": []
  },
  {
   "cell_type": "code",
   "execution_count": null,
   "metadata": {},
   "outputs": [],
   "source": []
  },
  {
   "cell_type": "code",
   "execution_count": null,
   "metadata": {},
   "outputs": [],
   "source": []
  },
  {
   "cell_type": "code",
   "execution_count": null,
   "metadata": {},
   "outputs": [],
   "source": []
  },
  {
   "cell_type": "code",
   "execution_count": null,
   "metadata": {},
   "outputs": [],
   "source": []
  },
  {
   "cell_type": "code",
   "execution_count": null,
   "metadata": {},
   "outputs": [],
   "source": []
  },
  {
   "cell_type": "code",
   "execution_count": null,
   "metadata": {},
   "outputs": [],
   "source": []
  },
  {
   "cell_type": "code",
   "execution_count": null,
   "metadata": {},
   "outputs": [],
   "source": []
  }
 ],
 "metadata": {
  "kernelspec": {
   "display_name": "agent",
   "language": "python",
   "name": "python3"
  },
  "language_info": {
   "codemirror_mode": {
    "name": "ipython",
    "version": 3
   },
   "file_extension": ".py",
   "mimetype": "text/x-python",
   "name": "python",
   "nbconvert_exporter": "python",
   "pygments_lexer": "ipython3",
   "version": "3.13.1"
  }
 },
 "nbformat": 4,
 "nbformat_minor": 2
}
