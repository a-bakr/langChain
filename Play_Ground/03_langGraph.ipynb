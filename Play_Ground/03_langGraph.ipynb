{
 "cells": [
  {
   "cell_type": "markdown",
   "metadata": {},
   "source": [
    "# Import Libraries"
   ]
  },
  {
   "cell_type": "code",
   "execution_count": 17,
   "metadata": {},
   "outputs": [],
   "source": [
    "from langchain_core.messages import SystemMessage, HumanMessage, AIMessage\n",
    "from langgraph.graph import StateGraph, START, END, MessagesState\n",
    "from langgraph.prebuilt import ToolNode, tools_condition\n",
    "from langgraph.checkpoint.sqlite import SqliteSaver\n",
    "from langgraph.checkpoint.memory import MemorySaver\n",
    "from IPython.display import Markdown\n",
    "import os, sys, sqlite3"
   ]
  },
  {
   "cell_type": "markdown",
   "metadata": {},
   "source": [
    "# LLM"
   ]
  },
  {
   "cell_type": "code",
   "execution_count": 18,
   "metadata": {},
   "outputs": [],
   "source": [
    "from langchain_openai import ChatOpenAI\n",
    "\n",
    "model_id = 'openai/gpt-4o-mini'\n",
    "model_id = 'google/gemma-3-27b-it:free'\n",
    "model_id = 'google/gemini-2.0-pro-exp-02-05:free'\n",
    "\n",
    "llm = ChatOpenAI(model=model_id)\n",
    "# llm.invoke(\"hi\").pretty_print()"
   ]
  },
  {
   "cell_type": "markdown",
   "metadata": {},
   "source": [
    "# "
   ]
  },
  {
   "cell_type": "markdown",
   "metadata": {},
   "source": [
    "Memory"
   ]
  },
  {
   "cell_type": "code",
   "execution_count": 19,
   "metadata": {},
   "outputs": [],
   "source": [
    "database = './db/test.db'\n",
    "conn = sqlite3.connect(database=database, check_same_thread=False)\n",
    "memory = SqliteSaver(conn=conn)"
   ]
  },
  {
   "cell_type": "markdown",
   "metadata": {},
   "source": [
    "State"
   ]
  },
  {
   "cell_type": "code",
   "execution_count": 20,
   "metadata": {},
   "outputs": [],
   "source": [
    "class State(MessagesState):\n",
    "    pass"
   ]
  },
  {
   "cell_type": "markdown",
   "metadata": {},
   "source": [
    "Tools"
   ]
  },
  {
   "cell_type": "code",
   "execution_count": 21,
   "metadata": {},
   "outputs": [],
   "source": [
    "def multiply(a: int, b: int) -> int:\n",
    "    \"\"\"Multiply a by b\n",
    "    ouput: return number\n",
    "    \"\"\"\n",
    "    return a * b\n",
    "\n",
    "def add(a: int, b: int) -> int:\n",
    "    \"\"\"Add a by b\n",
    "    ouput: return number\n",
    "    \"\"\"\n",
    "    return a + b\n",
    "\n",
    "tools = [multiply, add]"
   ]
  },
  {
   "cell_type": "markdown",
   "metadata": {},
   "source": [
    "Node"
   ]
  },
  {
   "cell_type": "code",
   "execution_count": 22,
   "metadata": {},
   "outputs": [],
   "source": [
    "llm_with_tools = llm.bind_tools(tools=tools)\n",
    "\n",
    "def call_llm_tools(state: State):\n",
    "    sys_msg = SystemMessage(content=\"You are a helful assistant help user with arithmatic operations.\")\n",
    "    messages = [sys_msg] + state['messages']\n",
    "    return {'messages': llm_with_tools.invoke(messages)}"
   ]
  },
  {
   "cell_type": "markdown",
   "metadata": {},
   "source": [
    "Graph"
   ]
  },
  {
   "cell_type": "code",
   "execution_count": 23,
   "metadata": {},
   "outputs": [
    {
     "data": {
      "image/png": "[encoded data removed]",
      "text/plain": [
       "<langgraph.graph.state.CompiledStateGraph object at 0x7f12ff540b90>"
      ]
     },
     "execution_count": 23,
     "metadata": {},
     "output_type": "execute_result"
    }
   ],
   "source": [
    "builder = StateGraph(State)\n",
    "builder.add_node(\"llm_tools\", call_llm_tools)\n",
    "builder.add_node('tools', ToolNode(tools=tools))\n",
    "\n",
    "# graph logic\n",
    "builder.add_edge(START, 'llm_tools')\n",
    "builder.add_conditional_edges('llm_tools', tools_condition)\n",
    "builder.add_edge('llm_tools', END)\n",
    "\n",
    "graph = builder.compile(checkpointer=memory)\n",
    "graph"
   ]
  },
  {
   "cell_type": "code",
   "execution_count": 26,
   "metadata": {},
   "outputs": [
    {
     "name": "stdout",
     "output_type": "stream",
     "text": [
      "================================\u001b[1m Human Message \u001b[0m=================================\n",
      "\n",
      "What is 2 + 10?\n",
      "==================================\u001b[1m Ai Message \u001b[0m==================================\n",
      "Tool Calls:\n",
      "  add (call_VZndtjbvPPVVDciRsxu7SrGx)\n",
      " Call ID: call_VZndtjbvPPVVDciRsxu7SrGx\n",
      "  Args:\n",
      "    a: 2\n",
      "    b: 10\n",
      "================================\u001b[1m Human Message \u001b[0m=================================\n",
      "\n",
      "What is 2 + 10?\n",
      "================================\u001b[1m Human Message \u001b[0m=================================\n",
      "\n",
      "What is 2 + 10?\n",
      "================================\u001b[1m Human Message \u001b[0m=================================\n",
      "\n",
      "What is 2 + 10?\n",
      "================================\u001b[1m Human Message \u001b[0m=================================\n",
      "\n",
      "What is 2 + 10?\n",
      "================================\u001b[1m Human Message \u001b[0m=================================\n",
      "\n",
      "What is 2 + 10?\n",
      "================================\u001b[1m Human Message \u001b[0m=================================\n",
      "\n",
      "What is 2 + 10?\n",
      "==================================\u001b[1m Ai Message \u001b[0m==================================\n",
      "Tool Calls:\n",
      "  add (tool_0_add)\n",
      " Call ID: tool_0_add\n",
      "  Args:\n",
      "    a: 2\n",
      "    b: 10\n",
      "  add (tool_1_add)\n",
      " Call ID: tool_1_add\n",
      "  Args:\n",
      "    b: 10\n",
      "    a: 2\n",
      "  add (tool_2_add)\n",
      " Call ID: tool_2_add\n",
      "  Args:\n",
      "    a: 2\n",
      "    b: 10\n",
      "  add (tool_3_add)\n",
      " Call ID: tool_3_add\n",
      "  Args:\n",
      "    a: 2\n",
      "    b: 10\n",
      "  add (tool_4_add)\n",
      " Call ID: tool_4_add\n",
      "  Args:\n",
      "    b: 10\n",
      "    a: 2\n",
      "  add (tool_5_add)\n",
      " Call ID: tool_5_add\n",
      "  Args:\n",
      "    a: 2\n",
      "    b: 10\n",
      "=================================\u001b[1m Tool Message \u001b[0m=================================\n",
      "Name: add\n",
      "\n",
      "12\n",
      "=================================\u001b[1m Tool Message \u001b[0m=================================\n",
      "Name: add\n",
      "\n",
      "12\n",
      "=================================\u001b[1m Tool Message \u001b[0m=================================\n",
      "Name: add\n",
      "\n",
      "12\n",
      "=================================\u001b[1m Tool Message \u001b[0m=================================\n",
      "Name: add\n",
      "\n",
      "12\n",
      "=================================\u001b[1m Tool Message \u001b[0m=================================\n",
      "Name: add\n",
      "\n",
      "12\n",
      "=================================\u001b[1m Tool Message \u001b[0m=================================\n",
      "Name: add\n",
      "\n",
      "12\n",
      "================================\u001b[1m Human Message \u001b[0m=================================\n",
      "\n",
      "What is 2 + 10?\n",
      "==================================\u001b[1m Ai Message \u001b[0m==================================\n",
      "Tool Calls:\n",
      "  add (tool_0_add)\n",
      " Call ID: tool_0_add\n",
      "  Args:\n",
      "    b: 10\n",
      "    a: 2\n",
      "=================================\u001b[1m Tool Message \u001b[0m=================================\n",
      "Name: add\n",
      "\n",
      "12\n",
      "================================\u001b[1m Human Message \u001b[0m=================================\n",
      "\n",
      "What is 2 + 10?\n",
      "==================================\u001b[1m Ai Message \u001b[0m==================================\n",
      "Tool Calls:\n",
      "  add (tool_0_add)\n",
      " Call ID: tool_0_add\n",
      "  Args:\n",
      "    a: 2\n",
      "    b: 10\n",
      "=================================\u001b[1m Tool Message \u001b[0m=================================\n",
      "Name: add\n",
      "\n",
      "12\n"
     ]
    }
   ],
   "source": [
    "config = {\"configurable\" : {'thread_id': '1'}}\n",
    "\n",
    "messages = [HumanMessage(\"What is 2 + 10?\")]\n",
    "res = graph.invoke({\"messages\": messages}, config=config)\n",
    "\n",
    "for m in res['messages']:\n",
    "    m.pretty_print()"
   ]
  },
  {
   "cell_type": "code",
   "execution_count": null,
   "metadata": {},
   "outputs": [],
   "source": []
  },
  {
   "cell_type": "code",
   "execution_count": null,
   "metadata": {},
   "outputs": [],
   "source": []
  },
  {
   "cell_type": "code",
   "execution_count": null,
   "metadata": {},
   "outputs": [],
   "source": []
  },
  {
   "cell_type": "code",
   "execution_count": null,
   "metadata": {},
   "outputs": [],
   "source": []
  },
  {
   "cell_type": "code",
   "execution_count": null,
   "metadata": {},
   "outputs": [],
   "source": []
  },
  {
   "cell_type": "code",
   "execution_count": null,
   "metadata": {},
   "outputs": [],
   "source": []
  },
  {
   "cell_type": "code",
   "execution_count": null,
   "metadata": {},
   "outputs": [],
   "source": []
  },
  {
   "cell_type": "code",
   "execution_count": null,
   "metadata": {},
   "outputs": [],
   "source": []
  },
  {
   "cell_type": "code",
   "execution_count": null,
   "metadata": {},
   "outputs": [],
   "source": []
  },
  {
   "cell_type": "code",
   "execution_count": null,
   "metadata": {},
   "outputs": [],
   "source": []
  },
  {
   "cell_type": "code",
   "execution_count": null,
   "metadata": {},
   "outputs": [],
   "source": []
  }
 ],
 "metadata": {
  "kernelspec": {
   "display_name": "agent",
   "language": "python",
   "name": "python3"
  },
  "language_info": {
   "codemirror_mode": {
    "name": "ipython",
    "version": 3
   },
   "file_extension": ".py",
   "mimetype": "text/x-python",
   "name": "python",
   "nbconvert_exporter": "python",
   "pygments_lexer": "ipython3",
   "version": "3.13.1"
  }
 },
 "nbformat": 4,
 "nbformat_minor": 2
}
